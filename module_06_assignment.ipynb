{
 "cells": [
  {
   "cell_type": "code",
   "execution_count": 15,
   "id": "5d43ae53",
   "metadata": {},
   "outputs": [],
   "source": [
    "import pandas as pd\n",
    "import numpy as np\n",
    "import matplotlib.pyplot as plt\n",
    "from IPython.display import Markdown, display\n",
    "from sklearn.model_selection import train_test_split\n",
    "from sklearn.linear_model import LogisticRegression\n",
    "from sklearn.metrics import classification_report, confusion_matrix\n",
    "\n",
    "train = pd.read_csv('train_bikes.csv')"
   ]
  },
  {
   "cell_type": "code",
   "execution_count": 25,
   "id": "91846499",
   "metadata": {},
   "outputs": [
    {
     "name": "stdout",
     "output_type": "stream",
     "text": [
      "              precision    recall  f1-score   support\n",
      "\n",
      "           0       0.81      0.93      0.87      1633\n",
      "           1       0.62      0.35      0.45       545\n",
      "\n",
      "    accuracy                           0.78      2178\n",
      "   macro avg       0.71      0.64      0.66      2178\n",
      "weighted avg       0.76      0.78      0.76      2178\n",
      "\n"
     ]
    }
   ],
   "source": [
    "dt = pd.to_datetime(train['datetime'])\n",
    "\n",
    "train['datetime']    = dt\n",
    "train['hour']        = dt.dt.hour\n",
    "train['day_of_week'] = dt.dt.dayofweek\n",
    "train['month']       = dt.dt.month\n",
    "\n",
    "\n",
    "threshold = train['count'].quantile(0.75)\n",
    "train['high_demand'] = (train['count'] >= threshold).astype(int)\n",
    "\n",
    "features = [\n",
    "    'season', 'holiday', 'workingday', 'weather',\n",
    "    'temp', 'atemp', 'humidity', 'windspeed',\n",
    "    'hour', 'dayofweek', 'month'\n",
    "]\n",
    "feature_data = train[features]\n",
    "demand_label = train['high_demand']\n",
    "\n",
    "training_features, validation_features, training_labels, validation_labels = train_test_split(\n",
    "    feature_data,\n",
    "    demand_label,\n",
    "    test_size=0.2,\n",
    "    stratify=demand_label,\n",
    "    random_state=42\n",
    ")\n",
    "\n",
    "demand_classifier = LogisticRegression(max_iter=1000)\n",
    "demand_classifier.fit(training_features, training_labels)\n",
    "\n",
    "\n",
    "val_predictions = log_reg.predict(val_feats)\n",
    "\n",
    "print(classification_report(val_labels, val_predictions))\n"
   ]
  },
  {
   "cell_type": "code",
   "execution_count": 27,
   "id": "d0146b0d",
   "metadata": {},
   "outputs": [
    {
     "data": {
      "image/png": "[encoded data removed]",
      "text/plain": [
       "<Figure size 500x500 with 1 Axes>"
      ]
     },
     "metadata": {},
     "output_type": "display_data"
    }
   ],
   "source": [
    "conf_mat = confusion_matrix(validation_labels, val_predictions)\n",
    "\n",
    "canvas = plt.figure(figsize=(5, 5))\n",
    "panel = canvas.add_subplot()\n",
    "panel.imshow(conf_mat, interpolation='nearest', cmap='Blues')\n",
    "panel.set_xticks([0, 1])\n",
    "panel.set_xticklabels(['Low', 'High'])\n",
    "panel.set_yticks([0, 1])\n",
    "panel.set_yticklabels(['Low', 'High'])\n",
    "panel.set_xlabel('Predicted')\n",
    "panel.set_ylabel('Actual')\n",
    "panel.set_title('Confusion Matrix')\n",
    "\n",
    "for row in range(conf_mat.shape[0]):\n",
    "    for col in range(conf_mat.shape[1]):\n",
    "        count = conf_mat[row, col]\n",
    "        text_color = 'white' if count > conf_mat.max() / 2 else 'black'\n",
    "        panel.text(col, row, count, ha='center', va='center', color=text_color)\n",
    "\n",
    "plt.tight_layout()\n",
    "plt.show()"
   ]
  },
  {
   "cell_type": "code",
   "execution_count": 18,
   "id": "db079f1e",
   "metadata": {},
   "outputs": [
    {
     "name": "stdout",
     "output_type": "stream",
     "text": [
      "\n",
      "Five Misclassified Samples:\n",
      "\n",
      "      season  holiday  workingday  weather   temp   atemp  humidity  \\\n",
      "9658       4        0           0        1  19.68  23.485        55   \n",
      "7548       2        0           0        2  26.24  31.060        53   \n",
      "6274       1        0           1        1  17.22  21.210        32   \n",
      "4529       4        0           1        1  17.22  21.210        58   \n",
      "9314       3        0           1        1  26.24  31.060        33   \n",
      "\n",
      "      windspeed  hour  dayofweek  month  actual  predicted  \n",
      "9658    15.0013    19          5     10       1          0  \n",
      "7548    12.9980    21          6      5       0          1  \n",
      "6274    19.9995    16          4      2       1          0  \n",
      "4529     6.0032    19          1     11       1          0  \n",
      "9314     6.0032    11          1      9       0          1  \n"
     ]
    }
   ],
   "source": [
    "val_data = X_val.copy()\n",
    "val_data['actual']    = y_val\n",
    "val_data['predicted'] = y_pred\n",
    "misclassified = val_data[val_data['actual'] != val_data['predicted']].head(5)\n",
    "\n",
    "print(\"\\nFive Misclassified Samples:\\n\")\n",
    "print(misclassified)"
   ]
  },
  {
   "cell_type": "code",
   "execution_count": 19,
   "id": "af239960",
   "metadata": {},
   "outputs": [
    {
     "name": "stdout",
     "output_type": "stream",
     "text": [
      "             datetime  season   temp\n",
      "0 2011-01-20 00:00:00       1  10.66\n",
      "1 2011-01-20 01:00:00       1  10.66\n",
      "2 2011-01-20 02:00:00       1  10.66\n",
      "3 2011-01-20 03:00:00       1  10.66\n",
      "4 2011-01-20 04:00:00       1  10.66\n",
      "             datetime  high_demand_pred\n",
      "0 2011-01-20 00:00:00                 0\n",
      "1 2011-01-20 01:00:00                 0\n",
      "2 2011-01-20 02:00:00                 0\n",
      "3 2011-01-20 03:00:00                 0\n",
      "4 2011-01-20 04:00:00                 0\n"
     ]
    }
   ],
   "source": [
    "test = pd.read_csv('test_bikes.csv')\n",
    "\n",
    "test['datetime']   = pd.to_datetime(test['datetime'])\n",
    "test['hour']       = test['datetime'].dt.hour\n",
    "test['dayofweek']  = test['datetime'].dt.dayofweek\n",
    "test['month']      = test['datetime'].dt.month\n",
    "\n",
    "X_test_kaggle = test[features]\n",
    "\n",
    "test['high_demand_pred'] = model.predict(X_test_kaggle)\n",
    "\n",
    "print(test[['datetime','season','temp']].head())     \n",
    "print(test[['datetime','high_demand_pred']].head())"
   ]
  },
  {
   "cell_type": "code",
   "execution_count": 20,
   "id": "4bee460a",
   "metadata": {},
   "outputs": [
    {
     "name": "stdout",
     "output_type": "stream",
     "text": [
      "               datetime  season   temp  high_demand_pred\n",
      "759 2011-04-20 15:00:00       2  31.16                 1\n",
      "760 2011-04-20 16:00:00       2  31.16                 1\n",
      "761 2011-04-20 17:00:00       2  30.34                 1\n",
      "762 2011-04-20 18:00:00       2  30.34                 1\n",
      "763 2011-04-20 19:00:00       2  28.70                 1\n",
      "764 2011-04-20 20:00:00       2  27.88                 1\n",
      "765 2011-04-20 21:00:00       2  27.06                 1\n",
      "766 2011-04-20 22:00:00       2  25.42                 1\n",
      "767 2011-04-20 23:00:00       2  24.60                 1\n",
      "856 2011-04-24 16:00:00       2  30.34                 1\n"
     ]
    }
   ],
   "source": [
    "test_high = test[test['high_demand_pred'] == 1]\n",
    "print(test_high[['datetime','season','temp','high_demand_pred']].head(10))"
   ]
  },
  {
   "cell_type": "code",
   "execution_count": 21,
   "id": "b2ee036b",
   "metadata": {},
   "outputs": [
    {
     "data": {
      "text/markdown": [
       "| feature    |   coefficient |\n",
       "|:-----------|--------------:|\n",
       "| workingday |   -0.193755   |\n",
       "| month      |    0.167458   |\n",
       "| season     |   -0.102407   |\n",
       "| atemp      |    0.0743452  |\n",
       "| hour       |    0.0671316  |\n",
       "| weather    |   -0.0611145  |\n",
       "| holiday    |    0.0563603  |\n",
       "| humidity   |   -0.0283479  |\n",
       "| dayofweek  |    0.0260485  |\n",
       "| temp       |    0.0176007  |\n",
       "| windspeed  |    0.00746642 |"
      ],
      "text/plain": [
       "<IPython.core.display.Markdown object>"
      ]
     },
     "metadata": {},
     "output_type": "display_data"
    }
   ],
   "source": [
    "coef_df = pd.DataFrame({\n",
    "    'feature': features,\n",
    "    'coefficient': model.coef_[0]\n",
    "})\n",
    "coef_df['abs_coef'] = coef_df['coefficient'].abs()\n",
    "coef_df = (\n",
    "    coef_df\n",
    "    .sort_values(by='abs_coef', ascending=False)\n",
    "    .drop(columns='abs_coef')\n",
    "    .reset_index(drop=True)\n",
    ")\n",
    "\n",
    "md = coef_df.to_markdown(index=False)\n",
    "display(Markdown(md))\n"
   ]
  },
  {
   "cell_type": "code",
   "execution_count": 22,
   "id": "d9f69f4f",
   "metadata": {},
   "outputs": [
    {
     "data": {
      "image/png": "[encoded data removed]",
      "text/plain": [
       "<Figure size 800x500 with 1 Axes>"
      ]
     },
     "metadata": {},
     "output_type": "display_data"
    }
   ],
   "source": [
    "plt.figure(figsize=(8,5))\n",
    "plt.barh(coef_df['feature'], coef_df['coefficient'])\n",
    "plt.title('Feature Impacts on High‑Demand Odds')\n",
    "plt.xlabel('Log‑odds Coefficient')\n",
    "plt.show()"
   ]
  },
  {
   "cell_type": "code",
   "execution_count": null,
   "id": "2fd6e235",
   "metadata": {},
   "outputs": [],
   "source": []
  }
 ],
 "metadata": {
  "kernelspec": {
   "display_name": "Python 3 (ipykernel)",
   "language": "python",
   "name": "python3"
  },
  "language_info": {
   "codemirror_mode": {
    "name": "ipython",
    "version": 3
   },
   "file_extension": ".py",
   "mimetype": "text/x-python",
   "name": "python",
   "nbconvert_exporter": "python",
   "pygments_lexer": "ipython3",
   "version": "3.9.13"
  }
 },
 "nbformat": 4,
 "nbformat_minor": 5
}
